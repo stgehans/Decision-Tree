{
 "cells": [
  {
   "cell_type": "code",
   "execution_count": 18,
   "metadata": {
    "scrolled": true
   },
   "outputs": [
    {
     "data": {
      "text/html": [
       "<div>\n",
       "<style scoped>\n",
       "    .dataframe tbody tr th:only-of-type {\n",
       "        vertical-align: middle;\n",
       "    }\n",
       "\n",
       "    .dataframe tbody tr th {\n",
       "        vertical-align: top;\n",
       "    }\n",
       "\n",
       "    .dataframe thead th {\n",
       "        text-align: right;\n",
       "    }\n",
       "</style>\n",
       "<table border=\"1\" class=\"dataframe\">\n",
       "  <thead>\n",
       "    <tr style=\"text-align: right;\">\n",
       "      <th></th>\n",
       "      <th>buying</th>\n",
       "      <th>maint</th>\n",
       "      <th>doors</th>\n",
       "      <th>persons</th>\n",
       "      <th>lug_boot</th>\n",
       "      <th>safety</th>\n",
       "      <th>class</th>\n",
       "    </tr>\n",
       "  </thead>\n",
       "  <tbody>\n",
       "    <tr>\n",
       "      <th>0</th>\n",
       "      <td>vhigh</td>\n",
       "      <td>vhigh</td>\n",
       "      <td>2</td>\n",
       "      <td>2</td>\n",
       "      <td>small</td>\n",
       "      <td>low</td>\n",
       "      <td>unacc</td>\n",
       "    </tr>\n",
       "    <tr>\n",
       "      <th>1</th>\n",
       "      <td>vhigh</td>\n",
       "      <td>vhigh</td>\n",
       "      <td>2</td>\n",
       "      <td>2</td>\n",
       "      <td>small</td>\n",
       "      <td>med</td>\n",
       "      <td>unacc</td>\n",
       "    </tr>\n",
       "    <tr>\n",
       "      <th>2</th>\n",
       "      <td>vhigh</td>\n",
       "      <td>vhigh</td>\n",
       "      <td>2</td>\n",
       "      <td>2</td>\n",
       "      <td>small</td>\n",
       "      <td>high</td>\n",
       "      <td>unacc</td>\n",
       "    </tr>\n",
       "    <tr>\n",
       "      <th>3</th>\n",
       "      <td>vhigh</td>\n",
       "      <td>vhigh</td>\n",
       "      <td>2</td>\n",
       "      <td>2</td>\n",
       "      <td>med</td>\n",
       "      <td>low</td>\n",
       "      <td>unacc</td>\n",
       "    </tr>\n",
       "    <tr>\n",
       "      <th>4</th>\n",
       "      <td>vhigh</td>\n",
       "      <td>vhigh</td>\n",
       "      <td>2</td>\n",
       "      <td>2</td>\n",
       "      <td>med</td>\n",
       "      <td>med</td>\n",
       "      <td>unacc</td>\n",
       "    </tr>\n",
       "  </tbody>\n",
       "</table>\n",
       "</div>"
      ],
      "text/plain": [
       "  buying  maint doors persons lug_boot safety  class\n",
       "0  vhigh  vhigh     2       2    small    low  unacc\n",
       "1  vhigh  vhigh     2       2    small    med  unacc\n",
       "2  vhigh  vhigh     2       2    small   high  unacc\n",
       "3  vhigh  vhigh     2       2      med    low  unacc\n",
       "4  vhigh  vhigh     2       2      med    med  unacc"
      ]
     },
     "execution_count": 18,
     "metadata": {},
     "output_type": "execute_result"
    }
   ],
   "source": [
    "import pandas as pd\n",
    "import math\n",
    "\n",
    "colNames = ['buying', 'maint', 'doors', 'persons', 'lug_boot', 'safety', 'class']\n",
    "carData = pd.read_csv('car.data', names = colNames, header = None)\n",
    "'''\n",
    "   buying       v-high, high, med, low\n",
    "   maint        v-high, high, med, low\n",
    "   doors        2, 3, 4, 5-more\n",
    "   persons      2, 4, more\n",
    "   lug_boot     small, med, big\n",
    "   safety       low, med, high\n",
    "   \n",
    "   class      N          N[%]\n",
    "   -----------------------------\n",
    "   unacc     1210     (70.023 %) \n",
    "   acc        384     (22.222 %) \n",
    "   good        69     ( 3.993 %) \n",
    "   v-good      65     ( 3.762 %) \n",
    "   \n",
    "   Number of Instances: 1728\n",
    "'''   \n",
    "carData.head()"
   ]
  },
  {
   "cell_type": "markdown",
   "metadata": {},
   "source": [
    "$$ Ent(S) = \\sum_{i=1}^c -p_i * \\log_{c} * p_i = 0.602870485$$"
   ]
  },
  {
   "cell_type": "code",
   "execution_count": 19,
   "metadata": {},
   "outputs": [],
   "source": [
    "def gain(data, attribute, initEntropy, classCol = 'class', classes = ['unacc', 'acc', 'good', 'vgood']):\n",
    "    \n",
    "    classCounts = {}  #Attributwert: [Anzahl class1, Anzahl class2, ...] i.e. vhigh: [360 , 72, 0, 0]\n",
    "    instances = data.shape[0]\n",
    "    gain = initEntropy\n",
    "    base = len(classes)\n",
    "    \n",
    "    for index, row in data.iterrows():\n",
    "        idx = classes.index(row[classCol])\n",
    "        attributeValue = row[attribute]\n",
    "        if attributeValue not in classCounts:\n",
    "            classCounts[attributeValue] = [1 if i == idx else 0 for i in range(base)]\n",
    "        else:\n",
    "            classCounts[attributeValue][idx] += 1       \n",
    "    \n",
    "    for key, value in classCounts.items():\n",
    "        instancesLeft = sum(value)\n",
    "        probs = [x/instancesLeft for x in value]\n",
    "        entropy = 0\n",
    "        for prob in probs:\n",
    "            if prob != 0:\n",
    "                entropy -= prob * math.log(prob, base)\n",
    "        gain -= (instancesLeft/instances) * entropy\n",
    "    return gain"
   ]
  },
  {
   "cell_type": "code",
   "execution_count": 20,
   "metadata": {},
   "outputs": [
    {
     "name": "stdout",
     "output_type": "stream",
     "text": [
      "gain \"buying\"\t =  0.04822448457871922\n",
      "gain \"maint\"\t =  0.03685197345465521\n",
      "gain \"doors\"\t =  0.002242858307228368\n",
      "gain \"persons\"\t =  0.10983148166386641\n",
      "gain \"lug_boot\"\t =  0.015004070617715026\n",
      "gain \"safety\"\t =  0.13109217827104425\n"
     ]
    }
   ],
   "source": [
    "print ('gain \\\"buying\\\"\\t =  '+ str(gain(carData, 'buying', 0.602870485)))\n",
    "print ('gain \\\"maint\\\"\\t =  '+ str(gain(carData, 'maint', 0.602870485)))\n",
    "print ('gain \\\"doors\\\"\\t =  '+ str(gain(carData, 'doors', 0.602870485)))\n",
    "print ('gain \\\"persons\\\"\\t =  '+ str(gain(carData, 'persons', 0.602870485)))\n",
    "print ('gain \\\"lug_boot\\\"\\t =  '+ str(gain(carData, 'lug_boot', 0.602870485)))\n",
    "print ('gain \\\"safety\\\"\\t =  '+ str(gain(carData, 'safety', 0.602870485)))"
   ]
  },
  {
   "cell_type": "markdown",
   "metadata": {},
   "source": [
    "### safety -> highest information gain"
   ]
  },
  {
   "cell_type": "code",
   "execution_count": 14,
   "metadata": {},
   "outputs": [
    {
     "name": "stdout",
     "output_type": "stream",
     "text": [
      "Tree: root\n",
      "\t└──a1── B\n",
      "\t\t└──b1── -\n",
      "\t\t└──b2── -\n",
      "\t\t└──b3── *\n",
      "\t└──a2── +\n"
     ]
    }
   ],
   "source": [
    "class Node:\n",
    "    def __init__(self, data = 'root'):\n",
    "        self.data = data\n",
    "        self.childs = {}\n",
    "    def __str__(self):\n",
    "        return str(self.data)\n",
    "\n",
    "def printTree(node, level = 0, path = ''):\n",
    "    if level == 0:\n",
    "        print('Tree: ' + str(node))\n",
    "    else:\n",
    "        print ('\\t' * level + '└' + '──' + path + '──' + ' ' + str(node))\n",
    "    if node.childs:\n",
    "        for key in node.childs:\n",
    "            printTree(node.childs[key], level + 1, key)\n",
    "\n",
    "root = Node()\n",
    "root.childs = {'a1':Node('B'), 'a2':Node('+')}\n",
    "root.childs['a1'].childs = {'b1':Node('-'), 'b2':Node('-'), 'b3':Node('*')}\n",
    "printTree(root)"
   ]
  },
  {
   "cell_type": "code",
   "execution_count": null,
   "metadata": {},
   "outputs": [],
   "source": []
  }
 ],
 "metadata": {
  "kernelspec": {
   "display_name": "Python 3",
   "language": "python",
   "name": "python3"
  },
  "language_info": {
   "codemirror_mode": {
    "name": "ipython",
    "version": 3
   },
   "file_extension": ".py",
   "mimetype": "text/x-python",
   "name": "python",
   "nbconvert_exporter": "python",
   "pygments_lexer": "ipython3",
   "version": "3.6.4"
  }
 },
 "nbformat": 4,
 "nbformat_minor": 2
}
